{
 "cells": [
  {
   "cell_type": "markdown",
   "id": "37c1bc39-e758-4146-85ca-ca73fecaa208",
   "metadata": {},
   "source": [
    "\n",
    "<p>\n",
    "The \"6k ± 1 rule\" is a prime number optimization strategy that states that with the exception of 2 and 3, all prime numbers are either one less or one more than a multiple of 6. In other words, prime numbers can be expressed as 6k ± 1, where k is a non-negative integer.\n",
    "\n",
    "Here's a brief explanation:\n",
    "\n",
    "6k: All numbers divisible by 6 can be expressed as 6k, where k is an integer.\n",
    "\n",
    "6k ± 1: Numbers of the form 6k ± 1 cover two cases: 6k + 1 and 6k - 1. These are the potential locations of prime numbers, as numbers that are not multiples of 2 or 3.\n",
    "\n",
    "For example:\n",
    "\n",
    "5 is a prime number, and it can be expressed as 6k - 1 (where k = 1).\n",
    "7 is a prime number, and it can be expressed as 6k + 1 (where k = 1).\n",
    "\n",
    "<table style=\"text-align: center;\">\n",
    "    <tr>\n",
    "        <td>k</td>\n",
    "        <td>6k-1</td>\n",
    "        <td>6k</td>\n",
    "        <td>6k+1</td>\n",
    "    </tr>\n",
    "    <tr>\n",
    "        <td>1</td>\n",
    "        <td>5</td>\n",
    "        <td>6</td>\n",
    "        <td>7</td>\n",
    "    </tr>\n",
    "    <tr>\n",
    "        <td>2</td>\n",
    "        <td>11</td>\n",
    "        <td>12</td>\n",
    "        <td>13</td>\n",
    "    </tr>\n",
    "    <tr>\n",
    "        <td>3</td>\n",
    "        <td>17</td>\n",
    "        <td>18</td>\n",
    "        <td>19</td>\n",
    "    </tr>\n",
    "    <tr>\n",
    "        <td>4</td>\n",
    "        <td>23</td>\n",
    "        <td>24</td>\n",
    "        <td>25</td>\n",
    "    </tr>\n",
    "    <tr>\n",
    "        <td>5</td>\n",
    "        <td>29</td>\n",
    "        <td>30</td>\n",
    "        <td>31</td>\n",
    "    </tr>\n",
    "    <tr>\n",
    "        <td>6</td>\n",
    "        <td>35</td>\n",
    "        <td>36</td>\n",
    "        <td>37</td>\n",
    "    </tr>\n",
    "    <tr>\n",
    "        <td>7</td>\n",
    "        <td>41</td>\n",
    "        <td>42</td>\n",
    "        <td>43</td>\n",
    "    </tr>\n",
    "    <tr>\n",
    "        <td>8</td>\n",
    "        <td>47</td>\n",
    "        <td>48</td>\n",
    "        <td>49</td>\n",
    "    </tr>\n",
    "</table>\n",
    "</p>\n",
    "use this rule to optimize finding prime numbers."
   ]
  },
  {
   "cell_type": "markdown",
   "id": "e9ef173b-c8a0-4f41-af14-ed0a3b1d9c6a",
   "metadata": {},
   "source": [
    "# Method 1"
   ]
  },
  {
   "cell_type": "code",
   "execution_count": 7,
   "id": "ba26cddf-0f9a-4b89-ad2c-5f18f1ebf8b2",
   "metadata": {},
   "outputs": [
    {
     "name": "stdin",
     "output_type": "stream",
     "text": [
      "Enter Number:  1000\n"
     ]
    },
    {
     "name": "stdout",
     "output_type": "stream",
     "text": [
      "[2, 3, 5, 7, 11, 13, 17, 19, 23, 29, 31, 37, 41, 43, 47, 53, 59, 61, 67, 71, 73, 79, 83, 89, 97, 101, 103, 107, 109, 113, 127, 131, 137, 139, 149, 151, 157, 163, 167, 173, 179, 181, 191, 193, 197, 199, 211, 223, 227, 229, 233, 239, 241, 251, 257, 263, 269, 271, 277, 281, 283, 293, 307, 311, 313, 317, 331, 337, 347, 349, 353, 359, 367, 373, 379, 383, 389, 397, 401, 409, 419, 421, 431, 433, 439, 443, 449, 457, 461, 463, 467, 479, 487, 491, 499, 503, 509, 521, 523, 541, 547, 557, 563, 569, 571, 577, 587, 593, 599, 601, 607, 613, 617, 619, 631, 641, 643, 647, 653, 659, 661, 673, 677, 683, 691, 701, 709, 719, 727, 733, 739, 743, 751, 757, 761, 769, 773, 787, 797, 809, 811, 821, 823, 827, 829, 839, 853, 857, 859, 863, 877, 881, 883, 887, 907, 911, 919, 929, 937, 941, 947, 953, 967, 971, 977, 983, 991, 997]\n",
      "No of primes :  168\n",
      "No. of iteration :  1759\n"
     ]
    }
   ],
   "source": [
    "iteration_count = 0\n",
    "list1 = [2,3]\n",
    "def pri(n):\n",
    "    global iteration_count\n",
    "    if n%2==0 or n%3==0:\n",
    "        return 0\n",
    "    for i in range(5, int((n**0.5) + 1), 6):\n",
    "        iteration_count += 1\n",
    "        if n%i==0 or n%(i+2)==0:\n",
    "            return 0\n",
    "    return 1\n",
    "\n",
    "b = int(input(\"Enter Number: \"))+ 1\n",
    "for i in range(5,b):\n",
    "    iteration_count += 1\n",
    "    if pri(i):\n",
    "        list1.append(i)\n",
    "\n",
    "print(list1)\n",
    "print(\"No of primes : \", len(list1))\n",
    "print(\"No. of iteration : \" , iteration_count)"
   ]
  },
  {
   "cell_type": "markdown",
   "id": "28077822-8c90-418d-b861-c854e8fdfa7d",
   "metadata": {},
   "source": [
    "# Method 2"
   ]
  },
  {
   "cell_type": "code",
   "execution_count": 4,
   "id": "a6401851-7928-43d0-afe0-16e371a572d0",
   "metadata": {},
   "outputs": [
    {
     "name": "stdin",
     "output_type": "stream",
     "text": [
      "Enter Number:  1000\n"
     ]
    },
    {
     "name": "stdout",
     "output_type": "stream",
     "text": [
      "[2, 3, 5, 7, 11, 13, 17, 19, 23, 29, 31, 37, 41, 43, 47, 53, 59, 61, 67, 71, 73, 79, 83, 89, 97, 101, 103, 107, 109, 113, 127, 131, 137, 139, 149, 151, 157, 163, 167, 173, 179, 181, 191, 193, 197, 199, 211, 223, 227, 229, 233, 239, 241, 251, 257, 263, 269, 271, 277, 281, 283, 293, 307, 311, 313, 317, 331, 337, 347, 349, 353, 359, 367, 373, 379, 383, 389, 397, 401, 409, 419, 421, 431, 433, 439, 443, 449, 457, 461, 463, 467, 479, 487, 491, 499, 503, 509, 521, 523, 541, 547, 557, 563, 569, 571, 577, 587, 593, 599, 601, 607, 613, 617, 619, 631, 641, 643, 647, 653, 659, 661, 673, 677, 683, 691, 701, 709, 719, 727, 733, 739, 743, 751, 757, 761, 769, 773, 787, 797, 809, 811, 821, 823, 827, 829, 839, 853, 857, 859, 863, 877, 881, 883, 887, 907, 911, 919, 929, 937, 941, 947, 953, 967, 971, 977, 983, 991, 997]\n",
      "No of primes: 168\n",
      "No. of iteration: 929\n"
     ]
    }
   ],
   "source": [
    "iteration_count = 0\n",
    "def is_prime(n):\n",
    "  global iteration_count\n",
    "  for i in range(5, int((n**0.5) + 1), 6):\n",
    "      iteration_count += 1\n",
    "      if n%i==0 or n%(i+2)==0:\n",
    "        return 0\n",
    "  return True\n",
    "\n",
    "def generate_primes(n):\n",
    "  global iteration_count\n",
    "  primes_list = [2, 3]\n",
    "  for i in range(5, n + 1, 6):\n",
    "      iteration_count += 1\n",
    "      if is_prime(i):\n",
    "          primes_list.append(i)\n",
    "      if is_prime(i + 2):\n",
    "          primes_list.append(i + 2)\n",
    "  return primes_list, iteration_count\n",
    "\n",
    "n = int(input(\"Enter Number: \"))\n",
    "prime_numbers, iteration_count = generate_primes(n)\n",
    "\n",
    "print(prime_numbers)\n",
    "print(\"No of primes:\", len(prime_numbers))\n",
    "print(\"No. of iteration:\", iteration_count)"
   ]
  },
  {
   "cell_type": "markdown",
   "id": "7ab1eefb-f262-4876-b40d-530d70d3205f",
   "metadata": {},
   "source": [
    "# Method 3"
   ]
  },
  {
   "cell_type": "code",
   "execution_count": 3,
   "id": "e4eaf13c-9c3b-4e02-ba87-8774f7392ffb",
   "metadata": {},
   "outputs": [
    {
     "name": "stdin",
     "output_type": "stream",
     "text": [
      "Enter Number:  1000\n"
     ]
    },
    {
     "name": "stdout",
     "output_type": "stream",
     "text": [
      "[2, 3, 5, 7, 11, 13, 17, 19, 23, 29, 31, 37, 41, 43, 47, 53, 59, 61, 67, 71, 73, 79, 83, 89, 97, 101, 103, 107, 109, 113, 127, 131, 137, 139, 149, 151, 157, 163, 167, 173, 179, 181, 191, 193, 197, 199, 211, 223, 227, 229, 233, 239, 241, 251, 257, 263, 269, 271, 277, 281, 283, 293, 307, 311, 313, 317, 331, 337, 347, 349, 353, 359, 367, 373, 379, 383, 389, 397, 401, 409, 419, 421, 431, 433, 439, 443, 449, 457, 461, 463, 467, 479, 487, 491, 499, 503, 509, 521, 523, 541, 547, 557, 563, 569, 571, 577, 587, 593, 599, 601, 607, 613, 617, 619, 631, 641, 643, 647, 653, 659, 661, 673, 677, 683, 691, 701, 709, 719, 727, 733, 739, 743, 751, 757, 761, 769, 773, 787, 797, 809, 811, 821, 823, 827, 829, 839, 853, 857, 859, 863, 877, 881, 883, 887, 907, 911, 919, 929, 937, 941, 947, 953, 967, 971, 977, 983, 991, 997]\n",
      "No of primes: 168\n",
      "No. of iteration: 678\n"
     ]
    }
   ],
   "source": [
    "iteration_count = 0\n",
    "primes_list = [2, 3]\n",
    "\n",
    "def is_prime(n):\n",
    "  global iteration_count,primes_list\n",
    "  flag = [True, True]\n",
    "  k = n + 2\n",
    "  for i in range(5, int((n**0.5)) + 2, 6):\n",
    "      iteration_count += 1\n",
    "      if flag[0] and ( n%i==0 or n%(i+2)==0 ):flag[0] = False\n",
    "      if flag[1] and ( k%i==0 or k%(i+2)==0 ): flag[1] = False\n",
    "      if flag[0] == False and flag[1] == False: return\n",
    "          \n",
    "  if flag[0] : primes_list.append(n)\n",
    "  if flag[1] : primes_list.append(k)\n",
    "\n",
    "def generate_primes(n):\n",
    "  global iteration_count\n",
    "  for i in range(5, n + 1, 6):\n",
    "      iteration_count += 1\n",
    "      is_prime(i)\n",
    "\n",
    "n = int(input(\"Enter Number: \"))\n",
    "generate_primes(n)\n",
    "\n",
    "print(primes_list)\n",
    "print(\"No of primes:\", len(primes_list))\n",
    "print(\"No. of iteration:\", iteration_count)"
   ]
  },
  {
   "cell_type": "markdown",
   "id": "db8849d0-bd64-41a5-923b-b36ec3384cf9",
   "metadata": {},
   "source": [
    "# Optimizing Finding Factors of A Number"
   ]
  },
  {
   "cell_type": "code",
   "execution_count": 11,
   "id": "38ca7ce4-596f-4cfd-90b4-8869fec3b0c5",
   "metadata": {},
   "outputs": [
    {
     "name": "stdout",
     "output_type": "stream",
     "text": [
      "Enter Number:  10000\n",
      "Total Iterations :  98\n",
      "Factors of 10000 are  [1, 2, 4, 5, 8, 10, 16, 20, 25, 40, 50, 80, 100, 125, 200, 250, 400, 500, 625, 1000, 1250, 2000, 2500, 5000, 10000]\n"
     ]
    }
   ],
   "source": [
    "iteration_count = 0\n",
    "n = int(input(\"Enter Number: \"))\n",
    "factors = [1,n]\n",
    "rt = int(n ** 0.5)\n",
    "for i in range (2,rt):\n",
    "    iteration_count += 1\n",
    "    if n % i == 0:\n",
    "        factors.append(i)\n",
    "        factors.append(n//i)\n",
    "if rt*rt == n:\n",
    "    factors.append(rt)\n",
    "factors.sort()\n",
    "print(f\"Total Iterations : \",iteration_count)\n",
    "print(f\"Factors of {n} are \",factors)"
   ]
  }
 ],
 "metadata": {
  "kernelspec": {
   "display_name": "Python 3 (ipykernel)",
   "language": "python",
   "name": "python3"
  },
  "language_info": {
   "codemirror_mode": {
    "name": "ipython",
    "version": 3
   },
   "file_extension": ".py",
   "mimetype": "text/x-python",
   "name": "python",
   "nbconvert_exporter": "python",
   "pygments_lexer": "ipython3",
   "version": "3.11.5"
  }
 },
 "nbformat": 4,
 "nbformat_minor": 5
}
