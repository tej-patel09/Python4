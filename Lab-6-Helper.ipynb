{
 "cells": [
  {
   "cell_type": "markdown",
   "metadata": {
    "id": "L2n4e3NKacEy"
   },
   "source": [
    "<a href='https://www.darshan.ac.in/'> <img src='https://www.darshan.ac.in/Content/media/DU_Logo.svg' width=\"250\" height=\"300\"/></a>\n",
    "<pre>\n",
    "<center><b><h1>Python Programming - 2101CS405</b></center>\n",
    "<center><b><h1>Lab - 6</b></center>    \n",
    "<pre>"
   ]
  },
  {
   "cell_type": "markdown",
   "metadata": {
    "id": "IEuvkJjAacE0"
   },
   "source": [
    "# Tuples, dictionary, set"
   ]
  },
  {
   "cell_type": "code",
   "execution_count": 3,
   "metadata": {
    "id": "8By5u7WQg1Tg"
   },
   "outputs": [
    {
     "name": "stdout",
     "output_type": "stream",
     "text": [
      "Enter Key : 2\n",
      "Enter Value : hi\n",
      "Enter Key : 3\n",
      "Enter Value : bye\n",
      "{'2': 'hi', '3': 'bye'}\n"
     ]
    }
   ],
   "source": [
    "# cretae custom dictionary\n",
    "my_dict = {}\n",
    "n = 2\n",
    "for i in range(n):\n",
    "    a = input(\"Enter Key : \")\n",
    "    my_dict[a] = input(\"Enter Value : \")\n",
    "print(my_dict)"
   ]
  },
  {
   "cell_type": "code",
   "execution_count": 1,
   "metadata": {},
   "outputs": [
    {
     "name": "stdout",
     "output_type": "stream",
     "text": [
      "Key :  3  Value :  x\n",
      "Key :  5  Value :  a\n",
      "Key :  1  Value :  z\n",
      "Key :  4  Value :  b\n",
      "Key :  2  Value :  y\n"
     ]
    }
   ],
   "source": [
    "# looping through dictionary\n",
    "my_dict = {3: 'x', 5: 'a', 1: 'z', 4: 'b', 2: 'y'}\n",
    "for i in my_dict:\n",
    "    print(\"Key : \", i , \" Value : \", my_dict[i] )"
   ]
  },
  {
   "cell_type": "code",
   "execution_count": 9,
   "metadata": {},
   "outputs": [
    {
     "name": "stdout",
     "output_type": "stream",
     "text": [
      "Found val at key :  4\n",
      "Val Not Found\n"
     ]
    }
   ],
   "source": [
    "# finding a value in dictionary\n",
    "my_dict = {3: 'x', 5: 'a', 1: 'z', 4: 'b', 2: 'y'}\n",
    "\n",
    "def find_val(find_val):\n",
    "    global my_dict\n",
    "    for i in my_dict:\n",
    "        if(my_dict[i] == find_val):\n",
    "            print(\"Found val at key : \", i)\n",
    "            break\n",
    "    else:\n",
    "        print(\"Val Not Found\")\n",
    "        \n",
    "find_val('b')\n",
    "find_val('f')\n",
    "\n"
   ]
  },
  {
   "cell_type": "code",
   "execution_count": 10,
   "metadata": {},
   "outputs": [
    {
     "name": "stdout",
     "output_type": "stream",
     "text": [
      "Key Exists\n",
      "No key found\n"
     ]
    }
   ],
   "source": [
    "# check if a key is there or not in a dictionary\n",
    "my_dict = {3: 'x', 5: 'a', 1: 'z', 4: 'b', 2: 'y'}\n",
    "\n",
    "def find_key(find_key):\n",
    "    global my_dict\n",
    "    if find_key in my_dict:\n",
    "        print(\"Key Exists\")\n",
    "    else:\n",
    "        print(\"No key found\")\n",
    "\n",
    "find_key(2) \n",
    "find_key('2')"
   ]
  },
  {
   "cell_type": "markdown",
   "metadata": {
    "id": "DzI2g-45acE0"
   },
   "source": [
    "# A"
   ]
  },
  {
   "cell_type": "markdown",
   "metadata": {
    "id": "oRvJWdRFacE1"
   },
   "source": [
    "### 01) WAP to sort python dictionary by key or value."
   ]
  },
  {
   "cell_type": "code",
   "execution_count": 3,
   "metadata": {
    "colab": {
     "base_uri": "https://localhost:8080/"
    },
    "executionInfo": {
     "elapsed": 1160,
     "status": "ok",
     "timestamp": 1705931181381,
     "user": {
      "displayName": "Tej Patel",
      "userId": "04032777318747107215"
     },
     "user_tz": -330
    },
    "id": "P3j8SHGNacE1",
    "outputId": "98c1c4ab-335e-478d-fd83-2eaa067c80bf"
   },
   "outputs": [
    {
     "name": "stdout",
     "output_type": "stream",
     "text": [
      "Original dictionary: {3: 'x', 5: 'a', 1: 'z', 4: 'b', 2: 'y'}\n",
      "Sorted dictionary by key: {1: 'z', 2: 'y', 3: 'x', 4: 'b', 5: 'a'}\n",
      "Sorted dictionary by value: {5: 'a', 4: 'b', 3: 'x', 2: 'y', 1: 'z'}\n"
     ]
    }
   ],
   "source": []
  },
  {
   "cell_type": "markdown",
   "metadata": {
    "id": "mMLPyMi5acE1"
   },
   "source": [
    "### 02) WAP to merge two dictionaries given by user."
   ]
  },
  {
   "cell_type": "code",
   "execution_count": 5,
   "metadata": {
    "colab": {
     "base_uri": "https://localhost:8080/"
    },
    "executionInfo": {
     "elapsed": 548,
     "status": "ok",
     "timestamp": 1705931268956,
     "user": {
      "displayName": "Tej Patel",
      "userId": "04032777318747107215"
     },
     "user_tz": -330
    },
    "id": "yeU1mhEmacE2",
    "outputId": "b63bbd22-868d-43e9-de42-a18b4a6ab6c9"
   },
   "outputs": [
    {
     "name": "stdout",
     "output_type": "stream",
     "text": [
      "Original dictionaries:\n",
      "{'a': 1, 'b': 2, 'c': 3}\n",
      "{'d': 4, 'e': 5, 'f': 6}\n",
      "Merged dictionary:\n",
      "{'a': 1, 'b': 2, 'c': 3, 'd': 4, 'e': 5, 'f': 6}\n"
     ]
    }
   ],
   "source": []
  },
  {
   "cell_type": "markdown",
   "metadata": {
    "id": "5AImqCgGacE2"
   },
   "source": [
    "### 03) WAP to find tuples that have all elements divisible by K from a list of tuples."
   ]
  },
  {
   "cell_type": "code",
   "execution_count": 9,
   "metadata": {
    "colab": {
     "base_uri": "https://localhost:8080/"
    },
    "executionInfo": {
     "elapsed": 421,
     "status": "ok",
     "timestamp": 1705931599896,
     "user": {
      "displayName": "Tej Patel",
      "userId": "04032777318747107215"
     },
     "user_tz": -330
    },
    "id": "HHotF0v_acE2",
    "outputId": "5c4a2c74-8792-45de-c87c-0d6f6d3f7e3c"
   },
   "outputs": [
    {
     "name": "stdout",
     "output_type": "stream",
     "text": [
      "List of Tuple :  [(1, 2, 3), (4, 5, 6), (7, 8, 9), (3, 6), (9, 12)]\n",
      "Enter K :  3\n",
      "[(3, 6), (9, 12)]\n"
     ]
    }
   ],
   "source": []
  },
  {
   "cell_type": "markdown",
   "metadata": {
    "id": "kNGjSwE3acE2"
   },
   "source": [
    "### 04) WAP to find Tuples with positive elements in List of tuples."
   ]
  },
  {
   "cell_type": "code",
   "execution_count": 12,
   "metadata": {
    "colab": {
     "base_uri": "https://localhost:8080/"
    },
    "executionInfo": {
     "elapsed": 432,
     "status": "ok",
     "timestamp": 1705931660495,
     "user": {
      "displayName": "Tej Patel",
      "userId": "04032777318747107215"
     },
     "user_tz": -330
    },
    "id": "libV1_wkacE2",
    "outputId": "1afdd8d2-e040-4bd9-b263-e664007c5fd1"
   },
   "outputs": [
    {
     "name": "stdout",
     "output_type": "stream",
     "text": [
      "List of Tuple :  [(1, 2, 3), (4, 5, 6), (7, 8, 9), (0, -1, -2), (-4, -5, -6), (4, -5, 6)]\n",
      "Tuples with positive elements in list of tuples:\n",
      "[(1, 2, 3), (4, 5, 6), (7, 8, 9)]\n"
     ]
    }
   ],
   "source": []
  },
  {
   "cell_type": "markdown",
   "metadata": {
    "id": "J2xzeHfSacE3"
   },
   "source": [
    "### 05) WAP which perform union of two sets."
   ]
  },
  {
   "cell_type": "code",
   "execution_count": 13,
   "metadata": {
    "colab": {
     "base_uri": "https://localhost:8080/"
    },
    "executionInfo": {
     "elapsed": 533,
     "status": "ok",
     "timestamp": 1705931729355,
     "user": {
      "displayName": "Tej Patel",
      "userId": "04032777318747107215"
     },
     "user_tz": -330
    },
    "id": "3y79pYxkacE3",
    "outputId": "7f2dc816-d3b8-447b-88fc-a124b6eaafe9"
   },
   "outputs": [
    {
     "name": "stdout",
     "output_type": "stream",
     "text": [
      "Set 1 :  {1, 2, 3, 4, 5}\n",
      "Set 2 :  {3, 4, 5, 6, 7}\n",
      "Union :  {1, 2, 3, 4, 5, 6, 7}\n"
     ]
    }
   ],
   "source": []
  },
  {
   "cell_type": "markdown",
   "metadata": {
    "id": "mrhAYJAKacE3"
   },
   "source": [
    "# B"
   ]
  },
  {
   "cell_type": "markdown",
   "metadata": {
    "id": "tF2YrUZ0acE3"
   },
   "source": [
    "### 01) WAP to convert binary tuple into integer."
   ]
  },
  {
   "cell_type": "markdown",
   "metadata": {
    "id": "5dyAy0pad03M"
   },
   "source": [
    "<img src=\"https://media.geeksforgeeks.org/wp-content/uploads/20211220193034/binary2.PNG\">"
   ]
  },
  {
   "cell_type": "code",
   "execution_count": 12,
   "metadata": {},
   "outputs": [
    {
     "name": "stdout",
     "output_type": "stream",
     "text": [
      "5\n",
      "4\n",
      "3\n",
      "2\n",
      "1\n"
     ]
    }
   ],
   "source": [
    "n = 5\n",
    "for i in range(5):\n",
    "    print(n-i)"
   ]
  },
  {
   "cell_type": "code",
   "execution_count": 15,
   "metadata": {
    "colab": {
     "base_uri": "https://localhost:8080/"
    },
    "executionInfo": {
     "elapsed": 6,
     "status": "ok",
     "timestamp": 1705931823761,
     "user": {
      "displayName": "Tej Patel",
      "userId": "04032777318747107215"
     },
     "user_tz": -330
    },
    "id": "kpMB4HC8acE3",
    "outputId": "a61a5d36-94eb-4378-fc0d-ae158b49009b"
   },
   "outputs": [
    {
     "name": "stdout",
     "output_type": "stream",
     "text": [
      "Original tuple: (1, 0, 1, 0, 1)\n",
      "Integer: 21\n"
     ]
    }
   ],
   "source": []
  },
  {
   "cell_type": "markdown",
   "metadata": {
    "id": "T36eCyrOacE4"
   },
   "source": [
    "### 02) WAP to count frequency in list by dictionary."
   ]
  },
  {
   "cell_type": "code",
   "execution_count": 16,
   "metadata": {
    "colab": {
     "base_uri": "https://localhost:8080/"
    },
    "executionInfo": {
     "elapsed": 425,
     "status": "ok",
     "timestamp": 1705932030300,
     "user": {
      "displayName": "Tej Patel",
      "userId": "04032777318747107215"
     },
     "user_tz": -330
    },
    "id": "zMlxOGmyacE4",
    "outputId": "4b1e2d8a-167f-483c-f2c5-0d79049fb37d"
   },
   "outputs": [
    {
     "name": "stdout",
     "output_type": "stream",
     "text": [
      "Original list :  [1, 2, 3, 4, 5, 1, 2, 3, 4, 5]\n",
      "Dictionary :  {1: 2, 2: 2, 3: 2, 4: 2, 5: 2}\n"
     ]
    }
   ],
   "source": []
  },
  {
   "cell_type": "markdown",
   "metadata": {
    "id": "8ppOXcImacE4"
   },
   "source": [
    "### 03) WAP to remove all the duplicate words from the list using dictionary."
   ]
  },
  {
   "cell_type": "code",
   "execution_count": 24,
   "metadata": {
    "colab": {
     "base_uri": "https://localhost:8080/"
    },
    "executionInfo": {
     "elapsed": 432,
     "status": "ok",
     "timestamp": 1705932434055,
     "user": {
      "displayName": "Tej Patel",
      "userId": "04032777318747107215"
     },
     "user_tz": -330
    },
    "id": "3gQJNASGacE4",
    "outputId": "89afc49a-f780-4fd3-bf5c-b79941a4eb7b"
   },
   "outputs": [
    {
     "name": "stdout",
     "output_type": "stream",
     "text": [
      "List with duplicate elements: ['red', 'orange', 'yellow', 'green', 'blue', 'violet', 'red', 'orange', 'yellow', 'green', 'blue', 'violet']\n",
      "List without duplicate elements: ['red', 'orange', 'yellow', 'green', 'blue', 'violet']\n",
      "Dictionary with unique elements: {'red': 2, 'orange': 2, 'yellow': 2, 'green': 2, 'blue': 2, 'violet': 2}\n"
     ]
    }
   ],
   "source": []
  }
 ],
 "metadata": {
  "colab": {
   "provenance": []
  },
  "kernelspec": {
   "display_name": "Python 3 (ipykernel)",
   "language": "python",
   "name": "python3"
  },
  "language_info": {
   "codemirror_mode": {
    "name": "ipython",
    "version": 3
   },
   "file_extension": ".py",
   "mimetype": "text/x-python",
   "name": "python",
   "nbconvert_exporter": "python",
   "pygments_lexer": "ipython3",
   "version": "3.11.5"
  }
 },
 "nbformat": 4,
 "nbformat_minor": 1
}
