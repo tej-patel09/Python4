{
 "cells": [
  {
   "cell_type": "markdown",
   "metadata": {
    "id": "sJl9GIC-LMQr"
   },
   "source": [
    "<a href='https://www.darshan.ac.in/'> <img src='https://www.darshan.ac.in/Content/media/DU_Logo.svg' width=\"250\" height=\"300\"/></a>\n",
    "<pre>\n",
    "<center><b><h1>Python Programming - 2101CS405</b></center>\n",
    "<center><b><h1>Lab - 10</b></center>    \n",
    "<pre>"
   ]
  },
  {
   "cell_type": "markdown",
   "metadata": {
    "id": "AM78boBeLMQw"
   },
   "source": [
    "# Modules"
   ]
  },
  {
   "cell_type": "markdown",
   "metadata": {
    "id": "R0c-Js2uLMQw"
   },
   "source": [
    "# A"
   ]
  },
  {
   "cell_type": "markdown",
   "metadata": {
    "id": "2P1QtyspLMQx"
   },
   "source": [
    "### 01) WAP to create Calculator module which defines functions like add, sub,mul and div. create another file that uses the Calculator module."
   ]
  },
  {
   "cell_type": "code",
   "execution_count": 1,
   "metadata": {
    "id": "c1FSkhnOLMQx"
   },
   "outputs": [
    {
     "name": "stdout",
     "output_type": "stream",
     "text": [
      "Enter first value 10\n",
      "Enter second value 20\n",
      "enter following opration + - * / //  +\n"
     ]
    },
    {
     "name": "stdout",
     "output_type": "stream",
     "text": [
      "30\n"
     ]
    }
   ],
   "source": [
    "import Calculator as cl"
   ]
  },
  {
   "cell_type": "markdown",
   "metadata": {
    "id": "5LwBPN6QLMQy"
   },
   "source": [
    "### 02) WAP to Pick a random character from a given String."
   ]
  },
  {
   "cell_type": "code",
   "execution_count": 38,
   "metadata": {
    "colab": {
     "base_uri": "https://localhost:8080/"
    },
    "id": "L5-vtBrNLMQy",
    "outputId": "ff21fb99-295d-4334-c64c-ae87b49a0d7e"
   },
   "outputs": [
    {
     "name": "stdout",
     "output_type": "stream",
     "text": [
      "Enter a string: HelloWorld\n",
      "Original string: HelloWorld\n",
      "Random character: l\n"
     ]
    }
   ],
   "source": [
    "import random"
   ]
  },
  {
   "cell_type": "markdown",
   "metadata": {
    "id": "DnVUJQ7wLMQy"
   },
   "source": [
    "### 03) WAP to Pick a random element from a given list."
   ]
  },
  {
   "cell_type": "code",
   "execution_count": 8,
   "metadata": {
    "colab": {
     "base_uri": "https://localhost:8080/"
    },
    "id": "khm8bc7fLMQz",
    "outputId": "27728b47-ae1a-4bd1-f7de-1e2f0d662e93"
   },
   "outputs": [
    {
     "name": "stdout",
     "output_type": "stream",
     "text": [
      "[1, 2, 3, 4, 5, 6, 7, 8, 9, 10]\n",
      "5\n"
     ]
    }
   ],
   "source": [
    "import random"
   ]
  },
  {
   "cell_type": "markdown",
   "metadata": {
    "id": "VWouUT84LMQz"
   },
   "source": [
    "### 04) WAP to demonstrate the use of the math module."
   ]
  },
  {
   "cell_type": "code",
   "execution_count": 3,
   "metadata": {
    "colab": {
     "base_uri": "https://localhost:8080/"
    },
    "id": "weRozH2TLMQz",
    "outputId": "fb51a06b-57f6-4d4f-9b72-91cc243e4150"
   },
   "outputs": [
    {
     "name": "stdout",
     "output_type": "stream",
     "text": [
      "Value of pi: 3.141592653589793\n",
      "Value of e: 2.718281828459045\n",
      "Square root of 10: 3.1622776601683795\n",
      "Sine of 30 degrees: 0.49999999999999994\n",
      "Cosine of 45 degrees: 0.7071067811865476\n",
      "Tangent of 60 degrees: 1.7320508075688767\n",
      "Floor of 2.5: 2\n",
      "Ceiling of 3.2: 4\n",
      "Factorial of 5: 120\n",
      "Absolute value of -5: 5.0\n",
      "2 raised to the power of 3: 8.0\n",
      "Logarithm of 10 to the base 2: 3.3219280948873626\n",
      "Natural logarithm of 10 (log of 10 to the base e): 2.302585092994046\n",
      "Hyperbolic sine of 1: 1.1752011936438014\n",
      "Hyperbolic cosine of 1: 1.5430806348152437\n",
      "Hyperbolic tangent of 1: 0.7615941559557649\n",
      "Inverse hyperbolic sine of 1: 0.881373587019543\n",
      "Inverse hyperbolic cosine of 1: 0.0\n",
      "Inverse hyperbolic tangent of 0: 0.0\n"
     ]
    }
   ],
   "source": [
    "import math"
   ]
  },
  {
   "cell_type": "markdown",
   "metadata": {
    "id": "i-C7uIMTLMQz"
   },
   "source": [
    "### 05) WAP to demonstrate the use of date time module."
   ]
  },
  {
   "cell_type": "code",
   "execution_count": 12,
   "metadata": {
    "colab": {
     "base_uri": "https://localhost:8080/"
    },
    "id": "uhuwrEcMLMQ0",
    "outputId": "f9649c16-262e-4b76-d359-7a0740c5c550"
   },
   "outputs": [
    {
     "name": "stdout",
     "output_type": "stream",
     "text": [
      "Current date and time: 2024-02-06 06:54:19.910711\n",
      "Current date: 2024-02-06\n",
      "Current time: 06:54:19.913553\n",
      "Current year: 2024\n",
      "Current month: 2\n",
      "Current day: 6\n",
      "Current hour: 6\n",
      "Current minute: 54\n",
      "Current second: 19\n",
      "Current microsecond: 917847\n",
      "Current timezone: UTC\n",
      "Current timestamp: 1707202459.918025\n",
      "Current UTC time: 2024-02-06 06:54:19.918086\n",
      "Current time in a specific format: 2024-02-06 06:54:19\n",
      "Current time in a specific timezone: 2024-02-06 12:24:19\n",
      "Current time in a specific timezone using a specific format: Tue, 06 Feb 2024 12:24:19 UTC+05:30\n"
     ]
    }
   ],
   "source": [
    "import datetime"
   ]
  },
  {
   "cell_type": "markdown",
   "metadata": {
    "id": "cWSYdh9ILMQ0"
   },
   "source": [
    "# B"
   ]
  },
  {
   "cell_type": "markdown",
   "metadata": {
    "id": "X2D__KOCLMQ0"
   },
   "source": [
    "### 01) WAP to Roll dice in such a way that every time you get the same number."
   ]
  },
  {
   "cell_type": "code",
   "execution_count": 19,
   "metadata": {
    "colab": {
     "base_uri": "https://localhost:8080/"
    },
    "id": "q1b9fFILLMQ0",
    "outputId": "312474c6-28fe-4d34-c26b-1dc7e564dba5"
   },
   "outputs": [
    {
     "name": "stdout",
     "output_type": "stream",
     "text": [
      "Dice roll: 5\n",
      "Dice roll: 2\n"
     ]
    }
   ],
   "source": [
    "import random"
   ]
  },
  {
   "cell_type": "markdown",
   "metadata": {
    "id": "J7HFPU1kLMQ0"
   },
   "source": [
    "### 02) WAP to generate 3 random integers between 100 and 999 which is divisible by 5."
   ]
  },
  {
   "cell_type": "code",
   "execution_count": 23,
   "metadata": {
    "colab": {
     "base_uri": "https://localhost:8080/"
    },
    "id": "IKP0ej0cLMQ0",
    "outputId": "fb2f01ce-1491-4465-efd7-b8f388f05091"
   },
   "outputs": [
    {
     "name": "stdout",
     "output_type": "stream",
     "text": [
      "780\n",
      "575\n",
      "135\n"
     ]
    }
   ],
   "source": [
    "import random"
   ]
  },
  {
   "cell_type": "markdown",
   "metadata": {
    "id": "oOBh6wmxLMQ1"
   },
   "source": [
    "### 03) WAP to generate 100 random lottery tickets and pick two lucky tickets from it as a winner."
   ]
  },
  {
   "cell_type": "code",
   "execution_count": 25,
   "metadata": {
    "colab": {
     "base_uri": "https://localhost:8080/"
    },
    "id": "XQ5IdX0uLMQ1",
    "outputId": "6a94c6f0-54be-4ec3-9ff8-00a00d97d33e"
   },
   "outputs": [
    {
     "name": "stdout",
     "output_type": "stream",
     "text": [
      "Winning tickets ( 6 digit nunbers only ): [811862, 113885]\n"
     ]
    }
   ],
   "source": [
    "import random"
   ]
  },
  {
   "cell_type": "markdown",
   "metadata": {
    "id": "wWZvsIWILMQ1"
   },
   "source": [
    "### 04) WAP to print current date and time in Python."
   ]
  },
  {
   "cell_type": "code",
   "execution_count": 26,
   "metadata": {
    "colab": {
     "base_uri": "https://localhost:8080/"
    },
    "id": "DeValrE4LMQ1",
    "outputId": "cf43df8e-87e7-4224-92ed-d33af4f36345"
   },
   "outputs": [
    {
     "name": "stdout",
     "output_type": "stream",
     "text": [
      "Current date and time: 2024-02-06 07:00:46.713131\n"
     ]
    }
   ],
   "source": [
    "import datetime"
   ]
  },
  {
   "cell_type": "markdown",
   "metadata": {
    "id": "11XxWxOcLMQ1"
   },
   "source": [
    "### 05) Subtract a week (7 days) from a given date in Python."
   ]
  },
  {
   "cell_type": "code",
   "execution_count": 27,
   "metadata": {
    "colab": {
     "base_uri": "https://localhost:8080/"
    },
    "id": "gmQjNjabLMQ1",
    "outputId": "12b92e7a-111d-4fb3-e867-775375f6eff2"
   },
   "outputs": [
    {
     "name": "stdout",
     "output_type": "stream",
     "text": [
      "Current date: 2024-02-06 07:01:09.502095\n",
      "Date one week ago: 2024-01-30 07:01:09.502095\n"
     ]
    }
   ],
   "source": [
    "from datetime import datetime, timedelta"
   ]
  },
  {
   "cell_type": "markdown",
   "metadata": {
    "id": "5uQbBI5zLMQ1"
   },
   "source": [
    "### 06) WAP to Calculate number of days between two given dates."
   ]
  },
  {
   "cell_type": "code",
   "execution_count": 32,
   "metadata": {
    "colab": {
     "base_uri": "https://localhost:8080/"
    },
    "id": "KXJlw4MJLMQ2",
    "outputId": "1e50a4a9-b5fd-41d0-9ff9-ec141b828a11"
   },
   "outputs": [
    {
     "name": "stdout",
     "output_type": "stream",
     "text": [
      "2023-08-10 2024-08-15\n",
      "Number of days between the two dates: 371\n"
     ]
    }
   ],
   "source": [
    "import datetime"
   ]
  },
  {
   "cell_type": "markdown",
   "metadata": {
    "id": "tVV977eRLMQ2"
   },
   "source": [
    "### 07) WAP to Find the day of the week of a given date."
   ]
  },
  {
   "cell_type": "code",
   "execution_count": 35,
   "metadata": {
    "colab": {
     "base_uri": "https://localhost:8080/"
    },
    "id": "_DbHslkvLMQ2",
    "outputId": "787b3e7d-6a05-4852-f3aa-dbce678f22e0"
   },
   "outputs": [
    {
     "name": "stdout",
     "output_type": "stream",
     "text": [
      "On 2024-08-15 it was : Thursday\n"
     ]
    }
   ],
   "source": [
    "import datetime"
   ]
  }
 ],
 "metadata": {
  "colab": {
   "provenance": []
  },
  "kernelspec": {
   "display_name": "Python 3 (ipykernel)",
   "language": "python",
   "name": "python3"
  },
  "language_info": {
   "codemirror_mode": {
    "name": "ipython",
    "version": 3
   },
   "file_extension": ".py",
   "mimetype": "text/x-python",
   "name": "python",
   "nbconvert_exporter": "python",
   "pygments_lexer": "ipython3",
   "version": "3.12.0"
  }
 },
 "nbformat": 4,
 "nbformat_minor": 4
}
