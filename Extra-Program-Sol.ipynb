{
 "cells": [
  {
   "cell_type": "markdown",
   "id": "320e15b9-277c-4f8e-88f2-75ab94935402",
   "metadata": {},
   "source": [
    "## 1) WAP to convert all lowercase letters to uppercase letters and vice versa.(without using swapcase method)"
   ]
  },
  {
   "cell_type": "code",
   "execution_count": 12,
   "id": "da268efe-7a80-4d5f-b918-6a533524fb83",
   "metadata": {},
   "outputs": [
    {
     "data": {
      "text/plain": [
       "'pYTHONIST 2'"
      ]
     },
     "execution_count": 12,
     "metadata": {},
     "output_type": "execute_result"
    }
   ],
   "source": [
    "def changeCase(word):\n",
    "    new_word = \"\"\n",
    "    for i in word:\n",
    "        if i.islower():\n",
    "            new_word += i.upper()\n",
    "        elif i.isupper():\n",
    "            new_word += i.lower()\n",
    "        else:\n",
    "            new_word += i\n",
    "    return new_word\n",
    "changeCase(\"Pythonist 2\")"
   ]
  },
  {
   "cell_type": "markdown",
   "id": "d4d85427-ef8f-4b96-891c-5ab816d55d95",
   "metadata": {},
   "source": [
    "## 2) WAP to print Pascal's Triangle"
   ]
  },
  {
   "cell_type": "markdown",
   "id": "4b7f9bb5-94a2-4c84-b049-65537fd7c9d9",
   "metadata": {},
   "source": [
    "### Method 1\n",
    "Dynamic Programming"
   ]
  },
  {
   "cell_type": "code",
   "execution_count": 95,
   "id": "eee2cd41-58bc-40d7-815a-7c5e8577b710",
   "metadata": {},
   "outputs": [
    {
     "name": "stdout",
     "output_type": "stream",
     "text": [
      "                 1\n",
      "               1   1\n",
      "             1   2   1\n",
      "           1   3   3   1\n",
      "         1   4   6   4   1\n",
      "       1   5  10  10   5   1\n",
      "     1   6  15  20  15   6   1\n"
     ]
    }
   ],
   "source": [
    "n = 7\n",
    "list1 = [] \n",
    "for i in range(n):\n",
    "    print(\"  \"*((n-i)), end=\"\")\n",
    "        \n",
    "    for j in range(i+1):\n",
    "        if j == 0 or j == i:\n",
    "            print(f\"{1:4d}\", end = \"\")\n",
    "            list1.append(1)\n",
    "        else:\n",
    "            x = list1[j] + list1[j-1]\n",
    "            print(f\"{x:4d}\", end = \"\")\n",
    "            list1.append(x)\n",
    "    list1 = list1[i:]\n",
    "    print()"
   ]
  },
  {
   "cell_type": "markdown",
   "id": "8d781ee3-e5bc-4fae-ad73-a292e1c30820",
   "metadata": {},
   "source": [
    "### Method 2 \n",
    "Math"
   ]
  },
  {
   "cell_type": "code",
   "execution_count": 74,
   "id": "906d6502-0bac-4d02-9790-380c879befe7",
   "metadata": {},
   "outputs": [
    {
     "name": "stdout",
     "output_type": "stream",
     "text": [
      "                \n",
      "                 1\n",
      "               1   1\n",
      "             1   2   1\n",
      "           1   3   3   1\n",
      "         1   4   6   4   1\n",
      "       1   5  10  10   5   1\n",
      "     1   6  15  20  15   6   1\n"
     ]
    }
   ],
   "source": [
    "n = 8\n",
    "for i in range(n):\n",
    "    print(\"  \"*((n-i)), end=\"\")\n",
    "    \n",
    "    x=1   \n",
    "    for j in range(1, i+1):  \n",
    "      print(f'{x:4d}', end='')  \n",
    "      x = x * (i - j) // j  \n",
    "    print()"
   ]
  },
  {
   "cell_type": "markdown",
   "id": "b97aeeb5-5659-4a39-a5c4-78b76b5837d9",
   "metadata": {},
   "source": [
    "### Method 3\n",
    "using combination nCr "
   ]
  },
  {
   "cell_type": "code",
   "execution_count": 151,
   "id": "7727fb75-d0e5-4221-ac4a-649c8a724c24",
   "metadata": {},
   "outputs": [
    {
     "name": "stdout",
     "output_type": "stream",
     "text": [
      "                     1\n",
      "                   1   1\n",
      "                 1   2   1\n",
      "               1   3   3   1\n",
      "             1   4   6   4   1\n",
      "           1   5  10  10   5   1\n",
      "         1   6  15  20  15   6   1\n",
      "       1   7  21  35  35  21   7   1\n",
      "     1   8  28  56  70  56  28   8   1\n"
     ]
    }
   ],
   "source": [
    "def fact(n):\n",
    "    fact = 1\n",
    "    for i in range(1,n+1):\n",
    "        fact *= i\n",
    "    return fact\n",
    "    \n",
    "def nCr(n,r):\n",
    "    # nCr = n!/((n-r)!*r!)\n",
    "    return (fact(n)//(fact(r)*fact(n-r)))\n",
    "\n",
    "n = 9\n",
    "for i in range(n):\n",
    "    print(\"  \"*((n-i)), end=\"\")\n",
    "    \n",
    "    for j in range(i+1):\n",
    "        print(f\"{nCr(i,j):4d}\", end=\"\")\n",
    "    print()"
   ]
  },
  {
   "cell_type": "markdown",
   "id": "3bfdebb7-1214-49d9-9f9d-f1033cac4598",
   "metadata": {},
   "source": [
    "### Method 4 \n",
    "as power of 11"
   ]
  },
  {
   "cell_type": "code",
   "execution_count": 3,
   "id": "96f0aebb-59cc-4d84-ac21-b692fc0c43fd",
   "metadata": {},
   "outputs": [
    {
     "name": "stdout",
     "output_type": "stream",
     "text": [
      "                  zdgfds\n",
      "   1   1\n",
      "                zdgfds\n",
      "   1   2   1\n",
      "              zdgfds\n",
      "   1   3   3   1\n",
      "            zdgfds\n",
      "   1   4   6   4   1\n",
      "          zdgfds\n",
      "   1   5  10  10   5   1\n",
      "        zdgfds\n",
      "   1   6  15  20  15   6   1\n",
      "      zdgfds\n",
      "   1   7  21  35  35  21   7   1\n",
      "    zdgfds\n",
      "   1   8  28  56  70  56  28   8   1\n",
      "  zdgfds\n",
      "   1   9  36  84 126 126  84  36   9   1\n"
     ]
    }
   ],
   "source": [
    "def createArr(n):\n",
    "    if n == 0:\n",
    "        return [1]\n",
    "    else :\n",
    "        z = [1]\n",
    "        for i in range(len(x) -1):\n",
    "            z.append(x[i] + x[i+1])\n",
    "        z.append(1)\n",
    "        return z\n",
    "\n",
    "n = 9\n",
    "for i in range(n):\n",
    "    \n",
    "    print(\"  \"*((n-i)), end=\"\")\n",
    "    \n",
    "    x = createArr(i)\n",
    "    for i in x:\n",
    "        print(f\"{i:4d}\",end =\"\")\n",
    "    print()\n"
   ]
  },
  {
   "cell_type": "markdown",
   "id": "fd961c02-4262-4f1e-9e85-1067873611f2",
   "metadata": {},
   "source": [
    "## 3) WAP to print the following pattern"
   ]
  },
  {
   "cell_type": "markdown",
   "id": "609c6c57-a53d-45af-8532-4c2e0d1eb69a",
   "metadata": {},
   "source": [
    "### Method 1"
   ]
  },
  {
   "cell_type": "code",
   "execution_count": 13,
   "id": "0585f84c-2c99-4d53-aaa6-2637fc2785bf",
   "metadata": {},
   "outputs": [],
   "source": [
    "def printPattern(n):\n",
    "    for i in range(n):\n",
    "      for j in range(i):\n",
    "        print(\"  \", end=\"\")\n",
    "      for j in range(2*(n - i) -1):\n",
    "        print(\"* \", end=\"\")\n",
    "      for j in range(2*i):\n",
    "        print(\"  \", end=\"\")\n",
    "      for j in range(n-i-1):\n",
    "        print(\"* \", end=\"\")\n",
    "      print()\n",
    "      for j in range(n-i):\n",
    "        print(\"* \", end=\"\")\n",
    "      print()\n",
    "\n",
    "    for i in range(n-1):\n",
    "      print(\"  \"*n, end=\"  \")\n",
    "      for j in range(i):\n",
    "        print(\"  \", end=\"\")\n",
    "      for j in range(2*(n-1 - i) -1):\n",
    "        print(\"* \", end=\"\")\n",
    "    \n",
    "      print()\n",
    "    return"
   ]
  },
  {
   "cell_type": "code",
   "execution_count": 14,
   "id": "9ad9eee8-7451-4553-abf3-99b33eaa853f",
   "metadata": {},
   "outputs": [
    {
     "name": "stdout",
     "output_type": "stream",
     "text": [
      "* * * * * * * * * * * * * \n",
      "* * * * * \n",
      "  * * * * * * *     * * * \n",
      "* * * * \n",
      "    * * * * *         * * \n",
      "* * * \n",
      "      * * *             * \n",
      "* * \n",
      "        *                 \n",
      "* \n",
      "            * * * * * * * \n",
      "              * * * * * \n",
      "                * * * \n",
      "                  * \n"
     ]
    }
   ],
   "source": [
    "printPattern(5)"
   ]
  },
  {
   "cell_type": "code",
   "execution_count": 10,
   "id": "b40ea957-18e3-4151-b94b-ce19cad5a7d4",
   "metadata": {},
   "outputs": [
    {
     "name": "stdout",
     "output_type": "stream",
     "text": [
      "* * * * * * * * * * \n",
      "* * * * \n",
      "  * * * * *     * * \n",
      "* * * \n",
      "    * * *         * \n",
      "* * \n",
      "      *             \n",
      "* \n",
      "          * * * * * \n",
      "            * * * \n",
      "              * \n"
     ]
    }
   ],
   "source": [
    "printPattern(4)"
   ]
  },
  {
   "cell_type": "markdown",
   "id": "3e59452e-7656-4e3b-a1ae-ee472e346012",
   "metadata": {},
   "source": [
    "### Method 2"
   ]
  },
  {
   "cell_type": "code",
   "execution_count": 76,
   "id": "172434f9-2417-4285-bee0-ef0f5aa81270",
   "metadata": {},
   "outputs": [
    {
     "name": "stdout",
     "output_type": "stream",
     "text": [
      "* * * * * * * * * * * * * \n",
      "* * * * * \n",
      "  * * * * * * *     * * * \n",
      "* * * * \n",
      "    * * * * *         * * \n",
      "* * * \n",
      "      * * *             * \n",
      "* * \n",
      "        *                 \n",
      "* \n",
      "            * * * * * * * \n",
      "              * * * * * \n",
      "                * * * \n",
      "                  * \n"
     ]
    }
   ],
   "source": [
    "n=5\n",
    "for i in range(1,2*n+1):\n",
    "  if i %2 != 0 :\n",
    "    i=i//2\n",
    "    for i in range(1,i+1):\n",
    "      print(\"  \",end=\"\")\n",
    "    for j in range(2*(n-i)-1):\n",
    "      print(\"* \",end=\"\")\n",
    "    for j in range(2*i):\n",
    "      print(\"  \",end=\"\")\n",
    "    for j in range(n-i-1):\n",
    "      print(\"* \",end=\"\")\n",
    "    print()\n",
    "  else:\n",
    "    for j in range(n-i//2+1):\n",
    "      print(\"* \",end=\"\")\n",
    "    print()\n",
    "      \n",
    "for i in range(n-1):\n",
    "  print(\"  \"*n, end=\"  \")\n",
    "  for j in range(i):\n",
    "    print(\"  \", end=\"\")\n",
    "  for j in range(2*(n-1 - i) -1):\n",
    "    print(\"* \", end=\"\")\n",
    "\n",
    "  print()"
   ]
  },
  {
   "cell_type": "markdown",
   "id": "ce248e33-a3db-4a45-8c08-92ee30b86e84",
   "metadata": {},
   "source": [
    "### 4) WAP to print the number of times that the substring occurs in the given string.(case-sensitive)\n"
   ]
  },
  {
   "cell_type": "code",
   "execution_count": 89,
   "id": "be064e9a-a1d3-487f-a8fc-7ee108690117",
   "metadata": {},
   "outputs": [
    {
     "name": "stdout",
     "output_type": "stream",
     "text": [
      "3\n"
     ]
    }
   ],
   "source": [
    "stri = \"ABCDCDCDC\"\n",
    "subStr = \"CDC\"\n",
    "subStrCount = 0\n",
    "for i in range(len(stri) - len(subStr) + 1):\n",
    "    if stri[i] == subStr[0]:\n",
    "        for j in range(1,len(subStr)):\n",
    "            if stri[i+j] != subStr[j]:\n",
    "                break\n",
    "        else:\n",
    "            subStrCount += 1\n",
    "print(subStrCount)"
   ]
  }
 ],
 "metadata": {
  "kernelspec": {
   "display_name": "Python 3 (ipykernel)",
   "language": "python",
   "name": "python3"
  },
  "language_info": {
   "codemirror_mode": {
    "name": "ipython",
    "version": 3
   },
   "file_extension": ".py",
   "mimetype": "text/x-python",
   "name": "python",
   "nbconvert_exporter": "python",
   "pygments_lexer": "ipython3",
   "version": "3.11.5"
  }
 },
 "nbformat": 4,
 "nbformat_minor": 5
}
