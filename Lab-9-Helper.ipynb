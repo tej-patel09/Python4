{
 "cells": [
  {
   "cell_type": "markdown",
   "metadata": {
    "id": "52JHRp_-GdDJ"
   },
   "source": [
    "<a href='https://www.darshan.ac.in/'> <img src='https://www.darshan.ac.in/Content/media/DU_Logo.svg' width=\"250\" height=\"300\"/></a>\n",
    "<pre>\n",
    "<center><b><h1>Python Programming - 2101CS405</b></center>\n",
    "<center><b><h1>Lab - 9</b></center>    \n",
    "<pre>"
   ]
  },
  {
   "cell_type": "markdown",
   "metadata": {
    "id": "Z4jxwUNYNktt"
   },
   "source": [
    "## Name : : { }\n",
    "## Enrollment : : { }\n",
    "## Date : : { }"
   ]
  },
  {
   "cell_type": "markdown",
   "metadata": {
    "id": "feilgBDMGdDL"
   },
   "source": [
    "# Exception Handling"
   ]
  },
  {
   "cell_type": "code",
   "execution_count": 1,
   "metadata": {
    "colab": {
     "base_uri": "https://localhost:8080/",
     "height": 0
    },
    "executionInfo": {
     "elapsed": 4,
     "status": "ok",
     "timestamp": 1707118749463,
     "user": {
      "displayName": "Javiya Hit",
      "userId": "07658258706577815819"
     },
     "user_tz": -330
    },
    "id": "ehS5dcohMzRH",
    "outputId": "67679087-5140-48ea-ecd4-a1c4b9af70c7"
   },
   "outputs": [
    {
     "name": "stdout",
     "output_type": "stream",
     "text": [
      "Invalid Datatype\n",
      "finally Block Excuted\n"
     ]
    }
   ],
   "source": [
    "try:\n",
    "    a=5\n",
    "    b=\"3\"\n",
    "    c=a+b\n",
    "except TypeError:\n",
    "    print(\"Invalid Datatype\")\n",
    "else:\n",
    "    print(\"else Block Excuted\")\n",
    "finally:\n",
    "    print(\"finally Block Excuted\")"
   ]
  },
  {
   "cell_type": "markdown",
   "metadata": {
    "id": "puxDNiNsGdDM"
   },
   "source": [
    "# A"
   ]
  },
  {
   "cell_type": "markdown",
   "metadata": {
    "id": "qRlmpUiiGdDM"
   },
   "source": [
    "### 01) WAP to handle divide by zero exception."
   ]
  },
  {
   "cell_type": "code",
   "execution_count": null,
   "metadata": {
    "id": "NwAA8LBCGdDM",
    "outputId": "fa491513-c144-49e5-c2b4-27ae3ce411c0"
   },
   "outputs": [
    {
     "name": "stdout",
     "output_type": "stream",
     "text": [
      "Enter Number : 5\n",
      "Zero Division Error\n"
     ]
    }
   ],
   "source": []
  },
  {
   "cell_type": "markdown",
   "metadata": {
    "id": "fXwKts6XGdDN"
   },
   "source": [
    "### 02)  Write a Python program that inputs a number and generates an error message if it is not a number."
   ]
  },
  {
   "cell_type": "code",
   "execution_count": null,
   "metadata": {
    "id": "g5sCw_iQGdDN",
    "outputId": "4a2e4988-5857-4da5-d7fd-e71d6baaaf92"
   },
   "outputs": [
    {
     "name": "stdout",
     "output_type": "stream",
     "text": [
      "Enter Number : 2a\n",
      "Enter Valid Number\n"
     ]
    }
   ],
   "source": []
  },
  {
   "cell_type": "markdown",
   "metadata": {
    "id": "agiEJvAlGdDN"
   },
   "source": [
    "### 03) WAP to handle file not found Exception"
   ]
  },
  {
   "cell_type": "code",
   "execution_count": null,
   "metadata": {
    "id": "sgPKlL3bGdDO",
    "outputId": "a30c6807-b299-4e0b-891a-0ddc35dd646b"
   },
   "outputs": [
    {
     "name": "stdout",
     "output_type": "stream",
     "text": [
      "Couldn't find file\n"
     ]
    }
   ],
   "source": []
  },
  {
   "cell_type": "markdown",
   "metadata": {
    "id": "vaDESoM3GdDO"
   },
   "source": [
    "### 04) WAP to handle type Exception."
   ]
  },
  {
   "cell_type": "code",
   "execution_count": null,
   "metadata": {
    "id": "zJHbz1ZMGdDO",
    "outputId": "d16634b4-3a26-4977-8f00-7c1305ae727d"
   },
   "outputs": [
    {
     "name": "stdout",
     "output_type": "stream",
     "text": [
      "Invalid Datatype or Operattion\n"
     ]
    }
   ],
   "source": []
  },
  {
   "cell_type": "markdown",
   "metadata": {
    "id": "K2Uz2P0WGdDO"
   },
   "source": [
    "### 05) WAP to demonstrate valueError and indexError with example."
   ]
  },
  {
   "cell_type": "code",
   "execution_count": null,
   "metadata": {
    "colab": {
     "base_uri": "https://localhost:8080/"
    },
    "executionInfo": {
     "elapsed": 3419,
     "status": "ok",
     "timestamp": 1707117118034,
     "user": {
      "displayName": "Javiya Hit",
      "userId": "07658258706577815819"
     },
     "user_tz": -330
    },
    "id": "vOr_lTjcGdDO",
    "outputId": "e0a32d09-28c4-487f-d105-4db030b7a1ed"
   },
   "outputs": [
    {
     "name": "stdout",
     "output_type": "stream",
     "text": [
      "Enter Number : 5a\n",
      "Value Error & Index Error\n"
     ]
    }
   ],
   "source": []
  },
  {
   "cell_type": "markdown",
   "metadata": {
    "id": "DPCOrdbRGdDP"
   },
   "source": [
    "### 06) WAP to domonstrate else  and finally block."
   ]
  },
  {
   "cell_type": "code",
   "execution_count": null,
   "metadata": {
    "colab": {
     "base_uri": "https://localhost:8080/"
    },
    "executionInfo": {
     "elapsed": 4033,
     "status": "ok",
     "timestamp": 1707117243257,
     "user": {
      "displayName": "Javiya Hit",
      "userId": "07658258706577815819"
     },
     "user_tz": -330
    },
    "id": "Dr7POR__GdDP",
    "outputId": "ed07075b-35a3-42d5-a18b-5e3e66409303"
   },
   "outputs": [
    {
     "name": "stdout",
     "output_type": "stream",
     "text": [
      "Enter Number : 5a\n",
      "Invalid Datatype\n",
      "finally Block Excuted\n"
     ]
    }
   ],
   "source": []
  },
  {
   "cell_type": "markdown",
   "metadata": {
    "id": "ZxtPT9-TGdDP"
   },
   "source": [
    "### 07) Create a short program that prompts the user for a list of grades separated by commas. Split the string into individual grades and use a list comprehension to convert each string to an integer. You should use a try statement to inform the user when the values they entered cannot be converted."
   ]
  },
  {
   "cell_type": "code",
   "execution_count": null,
   "metadata": {
    "colab": {
     "base_uri": "https://localhost:8080/"
    },
    "executionInfo": {
     "elapsed": 18538,
     "status": "ok",
     "timestamp": 1707117299649,
     "user": {
      "displayName": "Javiya Hit",
      "userId": "07658258706577815819"
     },
     "user_tz": -330
    },
    "id": "JzIjDs5iGdDP",
    "outputId": "481080a7-2e2c-4e26-cdfe-f789e2aff399"
   },
   "outputs": [
    {
     "name": "stdout",
     "output_type": "stream",
     "text": [
      "Enter List Of Marks Seperated By Comma : 5,61, ,535 \n",
      "Value Can't Converted\n"
     ]
    }
   ],
   "source": []
  },
  {
   "cell_type": "markdown",
   "metadata": {
    "id": "BcuR_xwaGdDP"
   },
   "source": [
    "# B"
   ]
  },
  {
   "cell_type": "markdown",
   "metadata": {
    "id": "VyTt1sHSGdDQ"
   },
   "source": [
    "### 01) WAP to Raising User Generated Exception."
   ]
  },
  {
   "cell_type": "code",
   "execution_count": null,
   "metadata": {
    "colab": {
     "base_uri": "https://localhost:8080/"
    },
    "executionInfo": {
     "elapsed": 3369,
     "status": "ok",
     "timestamp": 1707117687778,
     "user": {
      "displayName": "Javiya Hit",
      "userId": "07658258706577815819"
     },
     "user_tz": -330
    },
    "id": "yabp2M2mGdDQ",
    "outputId": "8111c420-c2f0-483c-ae5a-84d4351bcf61"
   },
   "outputs": [
    {
     "name": "stdout",
     "output_type": "stream",
     "text": [
      "Enter Positive Number : -1\n",
      " enter positive number \n"
     ]
    }
   ],
   "source": []
  },
  {
   "cell_type": "markdown",
   "metadata": {
    "id": "atC7pAz3GdDQ"
   },
   "source": [
    "### 02) WAP to raise your custom Exception."
   ]
  },
  {
   "cell_type": "code",
   "execution_count": null,
   "metadata": {
    "colab": {
     "base_uri": "https://localhost:8080/"
    },
    "executionInfo": {
     "elapsed": 3541,
     "status": "ok",
     "timestamp": 1707118532669,
     "user": {
      "displayName": "Javiya Hit",
      "userId": "07658258706577815819"
     },
     "user_tz": -330
    },
    "id": "Ug8Lm4lKGdDQ",
    "outputId": "4bccde70-6e5c-440e-f301-6595425826cb"
   },
   "outputs": [
    {
     "name": "stdout",
     "output_type": "stream",
     "text": [
      "Enter Odd Number : 6\n",
      "Even Number Entered\n"
     ]
    }
   ],
   "source": []
  }
 ],
 "metadata": {
  "colab": {
   "provenance": [
    {
     "file_id": "1etOeaeFahen83DZIeSj6S93BiowaXT7m",
     "timestamp": 1707118567055
    }
   ]
  },
  "kernelspec": {
   "display_name": "Python 3 (ipykernel)",
   "language": "python",
   "name": "python3"
  },
  "language_info": {
   "codemirror_mode": {
    "name": "ipython",
    "version": 3
   },
   "file_extension": ".py",
   "mimetype": "text/x-python",
   "name": "python",
   "nbconvert_exporter": "python",
   "pygments_lexer": "ipython3",
   "version": "3.8.2"
  },
  "vscode": {
   "interpreter": {
    "hash": "5238573367df39f7286bb46f9ff5f08f63a01a80960060ce41e3c79b190280fa"
   }
  }
 },
 "nbformat": 4,
 "nbformat_minor": 4
}
